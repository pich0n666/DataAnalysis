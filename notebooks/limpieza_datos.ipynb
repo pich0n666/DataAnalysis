{
 "cells": [
  {
   "cell_type": "code",
   "execution_count": 5,
   "id": "226e219f",
   "metadata": {},
   "outputs": [],
   "source": [
    "import pandas as pd\n",
    "from datetime import datetime"
   ]
  },
  {
   "cell_type": "code",
   "execution_count": 6,
   "id": "7db4e7d4",
   "metadata": {},
   "outputs": [
    {
     "name": "stderr",
     "output_type": "stream",
     "text": [
      "<>:1: SyntaxWarning: invalid escape sequence '\\B'\n",
      "<>:1: SyntaxWarning: invalid escape sequence '\\B'\n",
      "C:\\Users\\User\\AppData\\Local\\Temp\\ipykernel_10756\\3626005471.py:1: SyntaxWarning: invalid escape sequence '\\B'\n",
      "  df = pd.read_csv('D:\\Bibliotecas\\Escritorio\\github\\project data analysis\\data\\empleados_raw.csv')\n"
     ]
    }
   ],
   "source": [
    "df = pd.read_csv('D:\\Bibliotecas\\Escritorio\\github\\project data analysis\\data\\empleados_raw.csv')"
   ]
  },
  {
   "cell_type": "code",
   "execution_count": 7,
   "id": "1fc94283",
   "metadata": {},
   "outputs": [
    {
     "name": "stdout",
     "output_type": "stream",
     "text": [
      "Datos originales:\n",
      "   ID  Nombre  Edad Genero Departamento FechaIngreso  Sueldo  Ausencias  \\\n",
      "0   1     Ana    28      F           IT   2019-03-15  120000          2   \n",
      "1   2    Juan    35      M         RRHH   2018-07-10  110000          4   \n",
      "2   3  Camila    31      F     Finanzas   2020-01-20  125000          1   \n",
      "3   4   Lucas    45      M           IT   2015-05-01  135000          3   \n",
      "4   5   Sofía    29      F    Marketing   2021-06-12   98000          0   \n",
      "\n",
      "   Satisfaccion  \n",
      "0             8  \n",
      "1             7  \n",
      "2             9  \n",
      "3             6  \n",
      "4             9  \n"
     ]
    }
   ],
   "source": [
    "print(\"Datos originales:\")\n",
    "print(df.head())\n"
   ]
  },
  {
   "cell_type": "code",
   "execution_count": 8,
   "id": "f2835327",
   "metadata": {},
   "outputs": [],
   "source": [
    "df['FechaIngreso'] = pd.to_datetime(df['FechaIngreso'], errors='coerce')"
   ]
  },
  {
   "cell_type": "code",
   "execution_count": 9,
   "id": "5bbae933",
   "metadata": {},
   "outputs": [],
   "source": [
    "df = df.dropna(subset=['FechaIngreso'])"
   ]
  },
  {
   "cell_type": "code",
   "execution_count": 10,
   "id": "6b504065",
   "metadata": {},
   "outputs": [],
   "source": [
    "hoy = pd.Timestamp.today()\n",
    "df['Antiguedad'] = df['FechaIngreso'].apply(lambda x: round((hoy - x).days / 365, 1))"
   ]
  },
  {
   "cell_type": "code",
   "execution_count": 11,
   "id": "148512b6",
   "metadata": {},
   "outputs": [],
   "source": [
    "df.columns = df.columns.str.lower().str.replace(\" \", \"_\")"
   ]
  },
  {
   "cell_type": "code",
   "execution_count": 12,
   "id": "fdc783d9",
   "metadata": {},
   "outputs": [],
   "source": [
    "df.rename(columns={\n",
    "    \"genero\": \"sexo\",\n",
    "    \"satisfaccion\": \"satisfaccion_laboral\"\n",
    "}, inplace=True)"
   ]
  },
  {
   "cell_type": "code",
   "execution_count": 13,
   "id": "aada8afe",
   "metadata": {},
   "outputs": [],
   "source": [
    "df.to_csv(\"../data/empleados_limpios.csv\", index=False)"
   ]
  },
  {
   "cell_type": "code",
   "execution_count": 14,
   "id": "d4e956b4",
   "metadata": {},
   "outputs": [
    {
     "name": "stdout",
     "output_type": "stream",
     "text": [
      "\n",
      "Datos limpios:\n",
      "   id  nombre  edad sexo departamento fechaingreso  sueldo  ausencias  \\\n",
      "0   1     Ana    28    F           IT   2019-03-15  120000          2   \n",
      "1   2    Juan    35    M         RRHH   2018-07-10  110000          4   \n",
      "2   3  Camila    31    F     Finanzas   2020-01-20  125000          1   \n",
      "3   4   Lucas    45    M           IT   2015-05-01  135000          3   \n",
      "4   5   Sofía    29    F    Marketing   2021-06-12   98000          0   \n",
      "\n",
      "   satisfaccion_laboral  antiguedad  \n",
      "0                     8         6.4  \n",
      "1                     7         7.1  \n",
      "2                     9         5.5  \n",
      "3                     6        10.2  \n",
      "4                     9         4.1  \n"
     ]
    }
   ],
   "source": [
    "print(\"\\nDatos limpios:\")\n",
    "print(df.head())"
   ]
  }
 ],
 "metadata": {
  "kernelspec": {
   "display_name": "Python 3",
   "language": "python",
   "name": "python3"
  },
  "language_info": {
   "codemirror_mode": {
    "name": "ipython",
    "version": 3
   },
   "file_extension": ".py",
   "mimetype": "text/x-python",
   "name": "python",
   "nbconvert_exporter": "python",
   "pygments_lexer": "ipython3",
   "version": "3.13.5"
  }
 },
 "nbformat": 4,
 "nbformat_minor": 5
}
